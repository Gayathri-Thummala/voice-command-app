{
 "cells": [
  {
   "cell_type": "code",
   "execution_count": 1,
   "id": "a28891ab-1f33-4fbd-9716-3b6ba469f4a3",
   "metadata": {},
   "outputs": [
    {
     "name": "stderr",
     "output_type": "stream",
     "text": [
      "C:\\Users\\gthum\\anaconda3\\python.exe: No module named spacy\n"
     ]
    }
   ],
   "source": [
    "!python -m spacy download en_core_web_sm\n"
   ]
  },
  {
   "cell_type": "code",
   "execution_count": 2,
   "id": "bd70210a-2574-4533-9d8d-6517a8dc5e5b",
   "metadata": {},
   "outputs": [
    {
     "name": "stdout",
     "output_type": "stream",
     "text": [
      "False\n"
     ]
    }
   ],
   "source": [
    "import os\n",
    "print(os.path.isfile(\"symptom_disease_model.onnx\"))\n"
   ]
  },
  {
   "cell_type": "code",
   "execution_count": 3,
   "id": "27ea9139-d1ad-419e-925b-03cdd2464e89",
   "metadata": {},
   "outputs": [
    {
     "name": "stdout",
     "output_type": "stream",
     "text": [
      "Sample dataset created!\n"
     ]
    },
    {
     "data": {
      "text/html": [
       "<div>\n",
       "<style scoped>\n",
       "    .dataframe tbody tr th:only-of-type {\n",
       "        vertical-align: middle;\n",
       "    }\n",
       "\n",
       "    .dataframe tbody tr th {\n",
       "        vertical-align: top;\n",
       "    }\n",
       "\n",
       "    .dataframe thead th {\n",
       "        text-align: right;\n",
       "    }\n",
       "</style>\n",
       "<table border=\"1\" class=\"dataframe\">\n",
       "  <thead>\n",
       "    <tr style=\"text-align: right;\">\n",
       "      <th></th>\n",
       "      <th>fever</th>\n",
       "      <th>cough</th>\n",
       "      <th>fatigue</th>\n",
       "      <th>headache</th>\n",
       "      <th>nausea</th>\n",
       "      <th>disease</th>\n",
       "    </tr>\n",
       "  </thead>\n",
       "  <tbody>\n",
       "    <tr>\n",
       "      <th>0</th>\n",
       "      <td>1</td>\n",
       "      <td>1</td>\n",
       "      <td>1</td>\n",
       "      <td>0</td>\n",
       "      <td>0</td>\n",
       "      <td>Flu</td>\n",
       "    </tr>\n",
       "    <tr>\n",
       "      <th>1</th>\n",
       "      <td>0</td>\n",
       "      <td>1</td>\n",
       "      <td>1</td>\n",
       "      <td>1</td>\n",
       "      <td>0</td>\n",
       "      <td>Cold</td>\n",
       "    </tr>\n",
       "    <tr>\n",
       "      <th>2</th>\n",
       "      <td>1</td>\n",
       "      <td>0</td>\n",
       "      <td>1</td>\n",
       "      <td>0</td>\n",
       "      <td>1</td>\n",
       "      <td>COVID</td>\n",
       "    </tr>\n",
       "    <tr>\n",
       "      <th>3</th>\n",
       "      <td>0</td>\n",
       "      <td>0</td>\n",
       "      <td>0</td>\n",
       "      <td>1</td>\n",
       "      <td>1</td>\n",
       "      <td>Migraine</td>\n",
       "    </tr>\n",
       "    <tr>\n",
       "      <th>4</th>\n",
       "      <td>1</td>\n",
       "      <td>1</td>\n",
       "      <td>0</td>\n",
       "      <td>0</td>\n",
       "      <td>0</td>\n",
       "      <td>Flu</td>\n",
       "    </tr>\n",
       "  </tbody>\n",
       "</table>\n",
       "</div>"
      ],
      "text/plain": [
       "   fever  cough  fatigue  headache  nausea   disease\n",
       "0      1      1        1         0       0       Flu\n",
       "1      0      1        1         1       0      Cold\n",
       "2      1      0        1         0       1     COVID\n",
       "3      0      0        0         1       1  Migraine\n",
       "4      1      1        0         0       0       Flu"
      ]
     },
     "execution_count": 3,
     "metadata": {},
     "output_type": "execute_result"
    }
   ],
   "source": [
    "import pandas as pd\n",
    "\n",
    "# Sample synthetic data: Symptoms and their associated disease\n",
    "data = {\n",
    "    \"fever\": [1, 0, 1, 0, 1, 0],\n",
    "    \"cough\": [1, 1, 0, 0, 1, 0],\n",
    "    \"fatigue\": [1, 1, 1, 0, 0, 0],\n",
    "    \"headache\": [0, 1, 0, 1, 0, 1],\n",
    "    \"nausea\": [0, 0, 1, 1, 0, 1],\n",
    "    \"disease\": [\"Flu\", \"Cold\", \"COVID\", \"Migraine\", \"Flu\", \"Food Poisoning\"]\n",
    "}\n",
    "\n",
    "# Create DataFrame and save it\n",
    "df = pd.DataFrame(data)\n",
    "df.to_csv(\"symptom_disease_data.csv\", index=False)\n",
    "print(\"Sample dataset created!\")\n",
    "df.head()\n"
   ]
  },
  {
   "cell_type": "code",
   "execution_count": 4,
   "id": "3a9ede19-ddb7-4b8d-bc6d-77be5b48225f",
   "metadata": {},
   "outputs": [],
   "source": [
    "from sklearn.model_selection import train_test_split\n",
    "from sklearn.preprocessing import LabelEncoder\n",
    "\n",
    "# Load dataset\n",
    "df = pd.read_csv(\"symptom_disease_data.csv\")\n",
    "\n",
    "# Separate features and target\n",
    "X = df.drop(columns=[\"disease\"])\n",
    "y = df[\"disease\"]\n",
    "\n",
    "# Encode target labels\n",
    "le = LabelEncoder()\n",
    "y_encoded = le.fit_transform(y)\n",
    "\n",
    "# Split data\n",
    "X_train, X_test, y_train, y_test = train_test_split(X, y_encoded, test_size=0.2, random_state=42)\n"
   ]
  },
  {
   "cell_type": "code",
   "execution_count": 5,
   "id": "10abf4bb-02db-4155-989a-29da9c1a9fd5",
   "metadata": {},
   "outputs": [
    {
     "name": "stdout",
     "output_type": "stream",
     "text": [
      "Model accuracy: 50.00%\n"
     ]
    }
   ],
   "source": [
    "from sklearn.ensemble import RandomForestClassifier\n",
    "\n",
    "# Train a Random Forest model\n",
    "clf = RandomForestClassifier(n_estimators=100, random_state=42)\n",
    "clf.fit(X_train, y_train)\n",
    "\n",
    "# Test accuracy\n",
    "accuracy = clf.score(X_test, y_test)\n",
    "print(f\"Model accuracy: {accuracy * 100:.2f}%\")\n"
   ]
  },
  {
   "cell_type": "code",
   "execution_count": 6,
   "id": "016a14fd-0d7d-4c15-a901-a5548004aa0d",
   "metadata": {},
   "outputs": [
    {
     "name": "stdout",
     "output_type": "stream",
     "text": [
      "Collecting onnx\n",
      "  Obtaining dependency information for onnx from https://files.pythonhosted.org/packages/51/a5/19b0dfcb567b62e7adf1a21b08b23224f0c2d13842aee4d0abc6f07f9cf5/onnx-1.17.0-cp311-cp311-win_amd64.whl.metadata\n",
      "  Downloading onnx-1.17.0-cp311-cp311-win_amd64.whl.metadata (16 kB)\n",
      "Collecting skl2onnx\n",
      "  Obtaining dependency information for skl2onnx from https://files.pythonhosted.org/packages/08/de/e8825727acd80484aa28080de62e4dc21f076d6887c10db49e2c8a66578f/skl2onnx-1.18.0-py2.py3-none-any.whl.metadata\n",
      "  Downloading skl2onnx-1.18.0-py2.py3-none-any.whl.metadata (3.2 kB)\n",
      "Requirement already satisfied: numpy>=1.20 in c:\\users\\gthum\\anaconda3\\lib\\site-packages (from onnx) (1.26.4)\n",
      "Requirement already satisfied: protobuf>=3.20.2 in c:\\users\\gthum\\anaconda3\\lib\\site-packages (from onnx) (4.25.3)\n",
      "Requirement already satisfied: scikit-learn>=1.1 in c:\\users\\gthum\\anaconda3\\lib\\site-packages (from skl2onnx) (1.6.1)\n",
      "Collecting onnxconverter-common>=1.7.0 (from skl2onnx)\n",
      "  Obtaining dependency information for onnxconverter-common>=1.7.0 from https://files.pythonhosted.org/packages/6d/6a/9ed9fd4da34cb41fda35bc5cc9e990c605689db7de63ed84fedbca5a77f6/onnxconverter_common-1.14.0-py2.py3-none-any.whl.metadata\n",
      "  Downloading onnxconverter_common-1.14.0-py2.py3-none-any.whl.metadata (4.2 kB)\n",
      "Requirement already satisfied: packaging in c:\\users\\gthum\\anaconda3\\lib\\site-packages (from onnxconverter-common>=1.7.0->skl2onnx) (23.1)\n",
      "Collecting protobuf>=3.20.2 (from onnx)\n",
      "  Obtaining dependency information for protobuf>=3.20.2 from https://files.pythonhosted.org/packages/8b/e6/2a47ce2eba1aaf287380a44270da897ada03d118a55c19595ec7b4f0831f/protobuf-3.20.2-py2.py3-none-any.whl.metadata\n",
      "  Downloading protobuf-3.20.2-py2.py3-none-any.whl.metadata (720 bytes)\n",
      "Requirement already satisfied: scipy>=1.6.0 in c:\\users\\gthum\\anaconda3\\lib\\site-packages (from scikit-learn>=1.1->skl2onnx) (1.15.1)\n",
      "Requirement already satisfied: joblib>=1.2.0 in c:\\users\\gthum\\anaconda3\\lib\\site-packages (from scikit-learn>=1.1->skl2onnx) (1.2.0)\n",
      "Requirement already satisfied: threadpoolctl>=3.1.0 in c:\\users\\gthum\\anaconda3\\lib\\site-packages (from scikit-learn>=1.1->skl2onnx) (3.5.0)\n",
      "Downloading onnx-1.17.0-cp311-cp311-win_amd64.whl (14.5 MB)\n",
      "   ---------------------------------------- 0.0/14.5 MB ? eta -:--:--\n",
      "   ---------------------------------------- 0.0/14.5 MB 330.3 kB/s eta 0:00:44\n",
      "   ---------------------------------------- 0.1/14.5 MB 656.4 kB/s eta 0:00:23\n",
      "    --------------------------------------- 0.2/14.5 MB 1.6 MB/s eta 0:00:09\n",
      "   - -------------------------------------- 0.6/14.5 MB 3.5 MB/s eta 0:00:04\n",
      "   ---- ----------------------------------- 1.6/14.5 MB 7.4 MB/s eta 0:00:02\n",
      "   -------- ------------------------------- 3.1/14.5 MB 11.4 MB/s eta 0:00:02\n",
      "   ------------- -------------------------- 4.9/14.5 MB 15.7 MB/s eta 0:00:01\n",
      "   ------------------- -------------------- 7.0/14.5 MB 19.5 MB/s eta 0:00:01\n",
      "   ------------------------- -------------- 9.2/14.5 MB 22.7 MB/s eta 0:00:01\n",
      "   ------------------------------ --------- 10.9/14.5 MB 36.4 MB/s eta 0:00:01\n",
      "   ---------------------------------- ----- 12.7/14.5 MB 40.9 MB/s eta 0:00:01\n",
      "   ---------------------------------------  14.5/14.5 MB 43.7 MB/s eta 0:00:01\n",
      "   ---------------------------------------  14.5/14.5 MB 40.9 MB/s eta 0:00:01\n",
      "   ---------------------------------------- 14.5/14.5 MB 34.4 MB/s eta 0:00:00\n",
      "Downloading skl2onnx-1.18.0-py2.py3-none-any.whl (300 kB)\n",
      "   ---------------------------------------- 0.0/300.3 kB ? eta -:--:--\n",
      "   ---------------------------------------- 300.3/300.3 kB ? eta 0:00:00\n",
      "Downloading onnxconverter_common-1.14.0-py2.py3-none-any.whl (84 kB)\n",
      "   ---------------------------------------- 0.0/84.5 kB ? eta -:--:--\n",
      "   ---------------------------------------- 84.5/84.5 kB 4.6 MB/s eta 0:00:00\n",
      "Downloading protobuf-3.20.2-py2.py3-none-any.whl (162 kB)\n",
      "   ---------------------------------------- 0.0/162.1 kB ? eta -:--:--\n",
      "   ---------------------------------------- 162.1/162.1 kB ? eta 0:00:00\n",
      "Installing collected packages: protobuf, onnx, onnxconverter-common, skl2onnx\n",
      "  Attempting uninstall: protobuf\n",
      "    Found existing installation: protobuf 4.25.3\n",
      "    Uninstalling protobuf-4.25.3:\n",
      "      Successfully uninstalled protobuf-4.25.3\n",
      "Successfully installed onnx-1.17.0 onnxconverter-common-1.14.0 protobuf-3.20.2 skl2onnx-1.18.0\n"
     ]
    },
    {
     "name": "stderr",
     "output_type": "stream",
     "text": [
      "ERROR: pip's dependency resolver does not currently take into account all the packages that are installed. This behaviour is the source of the following dependency conflicts.\n",
      "grpcio-status 1.68.0 requires protobuf<6.0dev,>=5.26.1, but you have protobuf 3.20.2 which is incompatible.\n"
     ]
    }
   ],
   "source": [
    "!pip install onnx skl2onnx\n"
   ]
  },
  {
   "cell_type": "code",
   "execution_count": 7,
   "id": "30d491b7-0c9f-4c58-a86f-30f3dfb14b66",
   "metadata": {},
   "outputs": [],
   "source": [
    "from skl2onnx import convert_sklearn\n",
    "from skl2onnx.common.data_types import FloatTensorType"
   ]
  },
  {
   "cell_type": "code",
   "execution_count": 8,
   "id": "29962b3e-e190-4060-ac57-00a1a9f1419d",
   "metadata": {},
   "outputs": [
    {
     "name": "stdout",
     "output_type": "stream",
     "text": [
      "ONNX model saved successfully!\n"
     ]
    }
   ],
   "source": [
    "\n",
    "\n",
    "# Convert model to ONNX\n",
    "initial_type = [(\"float_input\", FloatTensorType([None, X_train.shape[1]]))]\n",
    "onnx_model = convert_sklearn(clf, initial_types=initial_type)\n",
    "\n",
    "# Save the ONNX model\n",
    "with open(\"symptom_disease_model.onnx\", \"wb\") as f:\n",
    "    f.write(onnx_model.SerializeToString())\n",
    "\n",
    "print(\"ONNX model saved successfully!\")\n"
   ]
  },
  {
   "cell_type": "code",
   "execution_count": 10,
   "id": "f82bd4a9-88e9-4e31-b7a9-e927f7fc9e0c",
   "metadata": {},
   "outputs": [
    {
     "name": "stdout",
     "output_type": "stream",
     "text": [
      "Collecting onnxruntime\n",
      "  Obtaining dependency information for onnxruntime from https://files.pythonhosted.org/packages/2c/2d/2d4d202c0bcfb3a4cc2b171abb9328672d7f91d7af9ea52572722c6d8d96/onnxruntime-1.20.1-cp311-cp311-win_amd64.whl.metadata\n",
      "  Downloading onnxruntime-1.20.1-cp311-cp311-win_amd64.whl.metadata (4.7 kB)\n",
      "Collecting coloredlogs (from onnxruntime)\n",
      "  Obtaining dependency information for coloredlogs from https://files.pythonhosted.org/packages/a7/06/3d6badcf13db419e25b07041d9c7b4a2c331d3f4e7134445ec5df57714cd/coloredlogs-15.0.1-py2.py3-none-any.whl.metadata\n",
      "  Downloading coloredlogs-15.0.1-py2.py3-none-any.whl.metadata (12 kB)\n",
      "Collecting flatbuffers (from onnxruntime)\n",
      "  Obtaining dependency information for flatbuffers from https://files.pythonhosted.org/packages/b8/25/155f9f080d5e4bc0082edfda032ea2bc2b8fab3f4d25d46c1e9dd22a1a89/flatbuffers-25.2.10-py2.py3-none-any.whl.metadata\n",
      "  Downloading flatbuffers-25.2.10-py2.py3-none-any.whl.metadata (875 bytes)\n",
      "Requirement already satisfied: numpy>=1.21.6 in c:\\users\\gthum\\anaconda3\\lib\\site-packages (from onnxruntime) (1.26.4)\n",
      "Requirement already satisfied: packaging in c:\\users\\gthum\\anaconda3\\lib\\site-packages (from onnxruntime) (23.1)\n",
      "Requirement already satisfied: protobuf in c:\\users\\gthum\\anaconda3\\lib\\site-packages (from onnxruntime) (3.20.2)\n",
      "Requirement already satisfied: sympy in c:\\users\\gthum\\anaconda3\\lib\\site-packages (from onnxruntime) (1.11.1)\n",
      "Collecting humanfriendly>=9.1 (from coloredlogs->onnxruntime)\n",
      "  Obtaining dependency information for humanfriendly>=9.1 from https://files.pythonhosted.org/packages/f0/0f/310fb31e39e2d734ccaa2c0fb981ee41f7bd5056ce9bc29b2248bd569169/humanfriendly-10.0-py2.py3-none-any.whl.metadata\n",
      "  Downloading humanfriendly-10.0-py2.py3-none-any.whl.metadata (9.2 kB)\n",
      "Requirement already satisfied: mpmath>=0.19 in c:\\users\\gthum\\anaconda3\\lib\\site-packages (from sympy->onnxruntime) (1.3.0)\n",
      "Collecting pyreadline3 (from humanfriendly>=9.1->coloredlogs->onnxruntime)\n",
      "  Obtaining dependency information for pyreadline3 from https://files.pythonhosted.org/packages/5a/dc/491b7661614ab97483abf2056be1deee4dc2490ecbf7bff9ab5cdbac86e1/pyreadline3-3.5.4-py3-none-any.whl.metadata\n",
      "  Downloading pyreadline3-3.5.4-py3-none-any.whl.metadata (4.7 kB)\n",
      "Downloading onnxruntime-1.20.1-cp311-cp311-win_amd64.whl (11.3 MB)\n",
      "   ---------------------------------------- 0.0/11.3 MB ? eta -:--:--\n",
      "   ---------------------------------------- 0.1/11.3 MB 2.0 MB/s eta 0:00:06\n",
      "   -- ------------------------------------- 0.6/11.3 MB 7.7 MB/s eta 0:00:02\n",
      "   -------- ------------------------------- 2.4/11.3 MB 19.2 MB/s eta 0:00:01\n",
      "   --------------- ------------------------ 4.5/11.3 MB 26.0 MB/s eta 0:00:01\n",
      "   ----------------------- ---------------- 6.5/11.3 MB 29.7 MB/s eta 0:00:01\n",
      "   --------------------------- ------------ 7.7/11.3 MB 28.9 MB/s eta 0:00:01\n",
      "   -------------------------------- ------- 9.2/11.3 MB 29.3 MB/s eta 0:00:01\n",
      "   ---------------------------------------  11.3/11.3 MB 38.6 MB/s eta 0:00:01\n",
      "   ---------------------------------------  11.3/11.3 MB 38.6 MB/s eta 0:00:01\n",
      "   ---------------------------------------- 11.3/11.3 MB 32.8 MB/s eta 0:00:00\n",
      "Downloading coloredlogs-15.0.1-py2.py3-none-any.whl (46 kB)\n",
      "   ---------------------------------------- 0.0/46.0 kB ? eta -:--:--\n",
      "   ---------------------------------------- 46.0/46.0 kB ? eta 0:00:00\n",
      "Downloading flatbuffers-25.2.10-py2.py3-none-any.whl (30 kB)\n",
      "Downloading humanfriendly-10.0-py2.py3-none-any.whl (86 kB)\n",
      "   ---------------------------------------- 0.0/86.8 kB ? eta -:--:--\n",
      "   ---------------------------------------- 86.8/86.8 kB 4.8 MB/s eta 0:00:00\n",
      "Downloading pyreadline3-3.5.4-py3-none-any.whl (83 kB)\n",
      "   ---------------------------------------- 0.0/83.2 kB ? eta -:--:--\n",
      "   ---------------------------------------- 83.2/83.2 kB 4.6 MB/s eta 0:00:00\n",
      "Installing collected packages: flatbuffers, pyreadline3, humanfriendly, coloredlogs, onnxruntime\n",
      "Successfully installed coloredlogs-15.0.1 flatbuffers-25.2.10 humanfriendly-10.0 onnxruntime-1.20.1 pyreadline3-3.5.4\n",
      "Model and symptom data loaded successfully!\n"
     ]
    }
   ],
   "source": [
    "!pip install onnxruntime\n",
    "\n",
    "import onnxruntime as ort\n",
    "import numpy as np\n",
    "import json\n",
    "\n",
    "# Load the ONNX model\n",
    "model_path = \"symptom_disease_model.onnx\"\n",
    "session = ort.InferenceSession(model_path)\n",
    "\n",
    "# Symptom list (based on training data)\n",
    "symptom_list = [\"fever\", \"cough\", \"fatigue\", \"headache\", \"nausea\"]\n",
    "\n",
    "# Disease labels (make sure it matches the label encoder’s order)\n",
    "disease_labels = [\"Cold\", \"COVID\", \"Flu\", \"Food Poisoning\", \"Migraine\"]\n",
    "\n",
    "print(\"Model and symptom data loaded successfully!\")\n"
   ]
  },
  {
   "cell_type": "code",
   "execution_count": 12,
   "id": "09d5bcc2-8605-4bb4-b4ac-becf4b121939",
   "metadata": {},
   "outputs": [
    {
     "name": "stdout",
     "output_type": "stream",
     "text": [
      "Collecting SpeechRecognition\n",
      "  Obtaining dependency information for SpeechRecognition from https://files.pythonhosted.org/packages/09/47/5dcfcd8a2c8c2981986fc196e98fc57bc1ecb5233b2d54dac0c0d448b019/SpeechRecognition-3.14.1-py3-none-any.whl.metadata\n",
      "  Downloading SpeechRecognition-3.14.1-py3-none-any.whl.metadata (31 kB)\n",
      "Requirement already satisfied: typing-extensions in c:\\users\\gthum\\anaconda3\\lib\\site-packages (from SpeechRecognition) (4.12.2)\n",
      "Downloading SpeechRecognition-3.14.1-py3-none-any.whl (32.9 MB)\n",
      "   ---------------------------------------- 0.0/32.9 MB ? eta -:--:--\n",
      "   ---------------------------------------- 0.1/32.9 MB 1.5 MB/s eta 0:00:22\n",
      "   ---------------------------------------- 0.3/32.9 MB 3.9 MB/s eta 0:00:09\n",
      "   -- ------------------------------------- 1.8/32.9 MB 12.6 MB/s eta 0:00:03\n",
      "   ---- ----------------------------------- 3.8/32.9 MB 20.5 MB/s eta 0:00:02\n",
      "   ------ --------------------------------- 5.4/32.9 MB 24.6 MB/s eta 0:00:02\n",
      "   ------ --------------------------------- 5.6/32.9 MB 23.7 MB/s eta 0:00:02\n",
      "   --------- ------------------------------ 7.9/32.9 MB 24.1 MB/s eta 0:00:02\n",
      "   ------------ --------------------------- 9.9/32.9 MB 26.3 MB/s eta 0:00:01\n",
      "   -------------- ------------------------- 12.0/32.9 MB 36.4 MB/s eta 0:00:01\n",
      "   ----------------- ---------------------- 14.1/32.9 MB 36.3 MB/s eta 0:00:01\n",
      "   ------------------- -------------------- 16.2/32.9 MB 46.7 MB/s eta 0:00:01\n",
      "   ---------------------- ----------------- 18.3/32.9 MB 43.7 MB/s eta 0:00:01\n",
      "   ------------------------ --------------- 20.3/32.9 MB 43.7 MB/s eta 0:00:01\n",
      "   --------------------------- ------------ 22.3/32.9 MB 43.7 MB/s eta 0:00:01\n",
      "   ----------------------------- ---------- 24.4/32.9 MB 43.7 MB/s eta 0:00:01\n",
      "   -------------------------------- ------- 26.6/32.9 MB 43.7 MB/s eta 0:00:01\n",
      "   ---------------------------------- ----- 28.5/32.9 MB 43.5 MB/s eta 0:00:01\n",
      "   ------------------------------------ --- 30.1/32.9 MB 40.9 MB/s eta 0:00:01\n",
      "   ---------------------------------------  32.1/32.9 MB 40.9 MB/s eta 0:00:01\n",
      "   ---------------------------------------  32.8/32.9 MB 40.9 MB/s eta 0:00:01\n",
      "   ---------------------------------------  32.8/32.9 MB 40.9 MB/s eta 0:00:01\n",
      "   ---------------------------------------- 32.9/32.9 MB 29.7 MB/s eta 0:00:00\n",
      "Installing collected packages: SpeechRecognition\n",
      "Successfully installed SpeechRecognition-3.14.1\n"
     ]
    }
   ],
   "source": [
    "!pip install SpeechRecognition\n",
    "\n",
    "import speech_recognition as sr\n",
    "\n",
    "# Speech recognition function\n",
    "def recognize_speech():\n",
    "    recognizer = sr.Recognizer()\n",
    "    with sr.Microphone() as source:\n",
    "        print(\"Listening for symptoms...\")\n",
    "        audio = recognizer.listen(source)\n",
    "    try:\n",
    "        text = recognizer.recognize_google(audio)\n",
    "        print(f\"Recognized Symptoms: {text}\")\n",
    "        return text.lower()\n",
    "    except sr.UnknownValueError:\n",
    "        print(\"Could not understand audio\")\n",
    "        return \"\"\n",
    "    except sr.RequestError:\n",
    "        print(\"Speech recognition service unavailable\")\n",
    "        return \"\"\n"
   ]
  },
  {
   "cell_type": "code",
   "execution_count": 13,
   "id": "0bace80a-8537-48aa-89bb-d221ca3c15ac",
   "metadata": {},
   "outputs": [],
   "source": [
    "# Convert recognized symptoms into model input\n",
    "def symptoms_to_vector(symptoms):\n",
    "    input_vector = np.zeros(len(symptom_list))\n",
    "    for symptom in symptom_list:\n",
    "        if symptom in symptoms:\n",
    "            index = symptom_list.index(symptom)\n",
    "            input_vector[index] = 1\n",
    "    return input_vector.reshape(1, -1).astype(np.float32)\n",
    "\n",
    "# Predict disease using ONNX model\n",
    "def predict_disease(symptoms):\n",
    "    input_vector = symptoms_to_vector(symptoms)\n",
    "    output = session.run(None, {session.get_inputs()[0].name: input_vector})\n",
    "    # output = session.run(None, {session.get_inputs()[0].name: input_vector})\n",
    "    print(f\"Model Output: {output}\")\n",
    "    print(f\"Output Type: {type(output)}\")\n",
    "    #print(f\"Output Shape: {[o.shape for o in output]}\")\n",
    "\n",
    "    # predicted_label = np.argmax(output[0])\n",
    "    # predicted_disease = disease_labels[predicted_label]\n",
    "    # print(f\"Predicted Disease: {predicted_disease}\")\n",
    "\n",
    "    predicted_label = output[0][0]  # Directly taking the class index from the array\n",
    "    predicted_disease = disease_labels[predicted_label]  # Assuming disease_labels is your mapping\n",
    "    print(f\"Predicted Disease: {predicted_disease}\")\n",
    "\n",
    "    return predicted_disease\n"
   ]
  },
  {
   "cell_type": "code",
   "execution_count": 15,
   "id": "a8405d3f",
   "metadata": {},
   "outputs": [
    {
     "name": "stdout",
     "output_type": "stream",
     "text": [
      "Collecting pyaudio\n",
      "  Obtaining dependency information for pyaudio from https://files.pythonhosted.org/packages/82/d8/f043c854aad450a76e476b0cf9cda1956419e1dacf1062eb9df3c0055abe/PyAudio-0.2.14-cp311-cp311-win_amd64.whl.metadata\n",
      "  Downloading PyAudio-0.2.14-cp311-cp311-win_amd64.whl.metadata (2.7 kB)\n",
      "Downloading PyAudio-0.2.14-cp311-cp311-win_amd64.whl (164 kB)\n",
      "   ---------------------------------------- 0.0/164.1 kB ? eta -:--:--\n",
      "   -- ------------------------------------- 10.2/164.1 kB ? eta -:--:--\n",
      "   ---- ---------------------------------- 20.5/164.1 kB 165.2 kB/s eta 0:00:01\n",
      "   --------- ----------------------------- 41.0/164.1 kB 281.8 kB/s eta 0:00:01\n",
      "   -------------------------- ----------- 112.6/164.1 kB 656.4 kB/s eta 0:00:01\n",
      "   -------------------------------------- 164.1/164.1 kB 822.6 kB/s eta 0:00:00\n",
      "Installing collected packages: pyaudio\n",
      "Successfully installed pyaudio-0.2.14\n"
     ]
    }
   ],
   "source": [
    "!pip install pyaudio\n"
   ]
  },
  {
   "cell_type": "code",
   "execution_count": 17,
   "id": "209c486c-b04d-40ea-a273-fb32b1f49573",
   "metadata": {},
   "outputs": [
    {
     "name": "stdout",
     "output_type": "stream",
     "text": [
      "Listening for symptoms...\n",
      "Could not understand audio\n"
     ]
    }
   ],
   "source": [
    "def main():\n",
    "    symptoms = recognize_speech()\n",
    "    if symptoms:\n",
    "        predict_disease(symptoms)\n",
    "\n",
    "if __name__ == \"__main__\":\n",
    "    main()\n"
   ]
  },
  {
   "cell_type": "code",
   "execution_count": null,
   "id": "5e9dfd08-fa7f-4b84-b315-23455b7fed0e",
   "metadata": {},
   "outputs": [],
   "source": []
  },
  {
   "cell_type": "code",
   "execution_count": null,
   "id": "fd61891e-78fb-4a2e-9323-14759f096918",
   "metadata": {},
   "outputs": [],
   "source": []
  },
  {
   "cell_type": "code",
   "execution_count": null,
   "id": "7fd0fdb5-71e6-4cc1-beea-3e328091f141",
   "metadata": {},
   "outputs": [],
   "source": []
  },
  {
   "cell_type": "code",
   "execution_count": null,
   "id": "b9fdca9f-0226-4fb7-a7e3-b8978d777900",
   "metadata": {},
   "outputs": [],
   "source": []
  },
  {
   "cell_type": "code",
   "execution_count": null,
   "id": "61e62417-265b-4851-a64d-d59bc4f3401b",
   "metadata": {},
   "outputs": [],
   "source": []
  },
  {
   "cell_type": "code",
   "execution_count": null,
   "id": "c6226775-e396-49b8-b60c-c261933fc32c",
   "metadata": {},
   "outputs": [],
   "source": []
  },
  {
   "cell_type": "code",
   "execution_count": null,
   "id": "bc85653c-30d0-47eb-841d-d1f13c35a780",
   "metadata": {},
   "outputs": [],
   "source": []
  }
 ],
 "metadata": {
  "kernelspec": {
   "display_name": "Python 3 (ipykernel)",
   "language": "python",
   "name": "python3"
  },
  "language_info": {
   "codemirror_mode": {
    "name": "ipython",
    "version": 3
   },
   "file_extension": ".py",
   "mimetype": "text/x-python",
   "name": "python",
   "nbconvert_exporter": "python",
   "pygments_lexer": "ipython3",
   "version": "3.11.5"
  }
 },
 "nbformat": 4,
 "nbformat_minor": 5
}
